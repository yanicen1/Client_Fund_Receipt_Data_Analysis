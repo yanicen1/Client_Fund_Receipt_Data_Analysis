{
 "cells": [
  {
   "cell_type": "markdown",
   "id": "0bfcf337",
   "metadata": {},
   "source": [
    "## Technical Specification\n",
    "\n",
    "The technical task needs to be entirely executed using the Python programming language. Manual alterations in the Excel table are NOT PERMITTED.\n",
    "\n",
    "The file \"data.xlsx\" contains data related to the receipt of monetary funds from clients of company N for the purchase of its services.\n",
    "\n",
    "Available fields:\n",
    "\n",
    "● client_id - ID of clients;\n",
    "\n",
    "● sum – Amount of monetary funds;\n",
    "\n",
    "● status – Payment status;\n",
    "\n",
    "● sale – Manager who closed the deal;\n",
    "\n",
    "● new/current – Deal status;\n",
    "\n",
    "● document – Existence of the original signed contract with the client;\n",
    "\n",
    "● receiving_date – Date of receiving the original contract."
   ]
  },
  {
   "cell_type": "code",
   "execution_count": 1,
   "id": "aba06dbb",
   "metadata": {},
   "outputs": [],
   "source": [
    "# Importing necessary libraries\n",
    "import pandas as pd\n",
    "import numpy as np\n",
    "import calendar\n",
    "import seaborn as sns  \n",
    "import matplotlib.pyplot as plt"
   ]
  },
  {
   "cell_type": "code",
   "execution_count": 2,
   "id": "21a1e290",
   "metadata": {},
   "outputs": [
    {
     "data": {
      "text/html": [
       "<div>\n",
       "<style scoped>\n",
       "    .dataframe tbody tr th:only-of-type {\n",
       "        vertical-align: middle;\n",
       "    }\n",
       "\n",
       "    .dataframe tbody tr th {\n",
       "        vertical-align: top;\n",
       "    }\n",
       "\n",
       "    .dataframe thead th {\n",
       "        text-align: right;\n",
       "    }\n",
       "</style>\n",
       "<table border=\"1\" class=\"dataframe\">\n",
       "  <thead>\n",
       "    <tr style=\"text-align: right;\">\n",
       "      <th></th>\n",
       "      <th>client_id</th>\n",
       "      <th>sum</th>\n",
       "      <th>status</th>\n",
       "      <th>sale</th>\n",
       "      <th>new/current</th>\n",
       "      <th>Unnamed: 5</th>\n",
       "      <th>document</th>\n",
       "      <th>receiving_date</th>\n",
       "    </tr>\n",
       "  </thead>\n",
       "  <tbody>\n",
       "    <tr>\n",
       "      <th>0</th>\n",
       "      <td>NaN</td>\n",
       "      <td>NaN</td>\n",
       "      <td>Май 2021</td>\n",
       "      <td>NaN</td>\n",
       "      <td>NaN</td>\n",
       "      <td>NaN</td>\n",
       "      <td>NaN</td>\n",
       "      <td>NaN</td>\n",
       "    </tr>\n",
       "    <tr>\n",
       "      <th>1</th>\n",
       "      <td>6.0</td>\n",
       "      <td>11693.7</td>\n",
       "      <td>ВНУТРЕННИЙ</td>\n",
       "      <td>-</td>\n",
       "      <td>-</td>\n",
       "      <td>NaN</td>\n",
       "      <td>-</td>\n",
       "      <td>-</td>\n",
       "    </tr>\n",
       "    <tr>\n",
       "      <th>2</th>\n",
       "      <td>14.0</td>\n",
       "      <td>5452.7</td>\n",
       "      <td>ОПЛАЧЕНО</td>\n",
       "      <td>Петрова</td>\n",
       "      <td>новая</td>\n",
       "      <td>NaN</td>\n",
       "      <td>оригинал</td>\n",
       "      <td>2021-07-26 00:00:00</td>\n",
       "    </tr>\n",
       "    <tr>\n",
       "      <th>3</th>\n",
       "      <td>15.0</td>\n",
       "      <td>13991.7</td>\n",
       "      <td>ОПЛАЧЕНО</td>\n",
       "      <td>Иванов</td>\n",
       "      <td>текущая</td>\n",
       "      <td>NaN</td>\n",
       "      <td>оригинал</td>\n",
       "      <td>2021-06-08 00:00:00</td>\n",
       "    </tr>\n",
       "    <tr>\n",
       "      <th>4</th>\n",
       "      <td>16.0</td>\n",
       "      <td>719.7</td>\n",
       "      <td>ОПЛАЧЕНО</td>\n",
       "      <td>Иванов</td>\n",
       "      <td>текущая</td>\n",
       "      <td>NaN</td>\n",
       "      <td>оригинал</td>\n",
       "      <td>2021-06-08 00:00:00</td>\n",
       "    </tr>\n",
       "  </tbody>\n",
       "</table>\n",
       "</div>"
      ],
      "text/plain": [
       "   client_id      sum      status     sale new/current  Unnamed: 5  document  \\\n",
       "0        NaN      NaN    Май 2021      NaN         NaN         NaN       NaN   \n",
       "1        6.0  11693.7  ВНУТРЕННИЙ        -           -         NaN         -   \n",
       "2       14.0   5452.7    ОПЛАЧЕНО  Петрова       новая         NaN  оригинал   \n",
       "3       15.0  13991.7    ОПЛАЧЕНО   Иванов     текущая         NaN  оригинал   \n",
       "4       16.0    719.7    ОПЛАЧЕНО   Иванов     текущая         NaN  оригинал   \n",
       "\n",
       "        receiving_date  \n",
       "0                  NaN  \n",
       "1                    -  \n",
       "2  2021-07-26 00:00:00  \n",
       "3  2021-06-08 00:00:00  \n",
       "4  2021-06-08 00:00:00  "
      ]
     },
     "execution_count": 2,
     "metadata": {},
     "output_type": "execute_result"
    }
   ],
   "source": [
    "# Reading EXCEL file as pandas DataFrame\n",
    "df = pd.read_excel('data.xlsx')\n",
    "df.head()"
   ]
  },
  {
   "cell_type": "markdown",
   "id": "9a752cd7",
   "metadata": {},
   "source": [
    "### Data Cleaning\n",
    "As you can see from the data, the `status` column contains the months of transactions in addition to the payment status. Let's create an additional date column."
   ]
  },
  {
   "cell_type": "code",
   "execution_count": 3,
   "id": "bee95e50",
   "metadata": {},
   "outputs": [
    {
     "data": {
      "text/plain": [
       "array(['Май 2021', 'ВНУТРЕННИЙ', 'ОПЛАЧЕНО', 'ПРОСРОЧЕНО', 'Июнь 2021',\n",
       "       'Июль 2021', 'Август 2021', 'В РАБОТЕ', 'Сентябрь 2021',\n",
       "       'Октябрь 2021', 'НА ПОДПИСАНИИ'], dtype=object)"
      ]
     },
     "execution_count": 3,
     "metadata": {},
     "output_type": "execute_result"
    }
   ],
   "source": [
    "# Unique data in the \"status\" column\n",
    "df.status.unique()"
   ]
  },
  {
   "cell_type": "code",
   "execution_count": 4,
   "id": "38528e35",
   "metadata": {},
   "outputs": [
    {
     "data": {
      "text/html": [
       "<div>\n",
       "<style scoped>\n",
       "    .dataframe tbody tr th:only-of-type {\n",
       "        vertical-align: middle;\n",
       "    }\n",
       "\n",
       "    .dataframe tbody tr th {\n",
       "        vertical-align: top;\n",
       "    }\n",
       "\n",
       "    .dataframe thead th {\n",
       "        text-align: right;\n",
       "    }\n",
       "</style>\n",
       "<table border=\"1\" class=\"dataframe\">\n",
       "  <thead>\n",
       "    <tr style=\"text-align: right;\">\n",
       "      <th></th>\n",
       "      <th>client_id</th>\n",
       "      <th>sum</th>\n",
       "      <th>status</th>\n",
       "      <th>sale</th>\n",
       "      <th>new/current</th>\n",
       "      <th>Unnamed: 5</th>\n",
       "      <th>document</th>\n",
       "      <th>receiving_date</th>\n",
       "      <th>dates</th>\n",
       "    </tr>\n",
       "  </thead>\n",
       "  <tbody>\n",
       "    <tr>\n",
       "      <th>0</th>\n",
       "      <td>NaN</td>\n",
       "      <td>NaN</td>\n",
       "      <td>Май 2021</td>\n",
       "      <td>NaN</td>\n",
       "      <td>NaN</td>\n",
       "      <td>NaN</td>\n",
       "      <td>NaN</td>\n",
       "      <td>NaN</td>\n",
       "      <td>May 2021</td>\n",
       "    </tr>\n",
       "    <tr>\n",
       "      <th>1</th>\n",
       "      <td>6.0</td>\n",
       "      <td>11693.7</td>\n",
       "      <td>ВНУТРЕННИЙ</td>\n",
       "      <td>-</td>\n",
       "      <td>-</td>\n",
       "      <td>NaN</td>\n",
       "      <td>-</td>\n",
       "      <td>-</td>\n",
       "      <td>May 2021</td>\n",
       "    </tr>\n",
       "    <tr>\n",
       "      <th>2</th>\n",
       "      <td>14.0</td>\n",
       "      <td>5452.7</td>\n",
       "      <td>ОПЛАЧЕНО</td>\n",
       "      <td>Петрова</td>\n",
       "      <td>новая</td>\n",
       "      <td>NaN</td>\n",
       "      <td>оригинал</td>\n",
       "      <td>2021-07-26 00:00:00</td>\n",
       "      <td>May 2021</td>\n",
       "    </tr>\n",
       "    <tr>\n",
       "      <th>3</th>\n",
       "      <td>15.0</td>\n",
       "      <td>13991.7</td>\n",
       "      <td>ОПЛАЧЕНО</td>\n",
       "      <td>Иванов</td>\n",
       "      <td>текущая</td>\n",
       "      <td>NaN</td>\n",
       "      <td>оригинал</td>\n",
       "      <td>2021-06-08 00:00:00</td>\n",
       "      <td>May 2021</td>\n",
       "    </tr>\n",
       "    <tr>\n",
       "      <th>4</th>\n",
       "      <td>16.0</td>\n",
       "      <td>719.7</td>\n",
       "      <td>ОПЛАЧЕНО</td>\n",
       "      <td>Иванов</td>\n",
       "      <td>текущая</td>\n",
       "      <td>NaN</td>\n",
       "      <td>оригинал</td>\n",
       "      <td>2021-06-08 00:00:00</td>\n",
       "      <td>May 2021</td>\n",
       "    </tr>\n",
       "  </tbody>\n",
       "</table>\n",
       "</div>"
      ],
      "text/plain": [
       "   client_id      sum      status     sale new/current  Unnamed: 5  document  \\\n",
       "0        NaN      NaN    Май 2021      NaN         NaN         NaN       NaN   \n",
       "1        6.0  11693.7  ВНУТРЕННИЙ        -           -         NaN         -   \n",
       "2       14.0   5452.7    ОПЛАЧЕНО  Петрова       новая         NaN  оригинал   \n",
       "3       15.0  13991.7    ОПЛАЧЕНО   Иванов     текущая         NaN  оригинал   \n",
       "4       16.0    719.7    ОПЛАЧЕНО   Иванов     текущая         NaN  оригинал   \n",
       "\n",
       "        receiving_date     dates  \n",
       "0                  NaN  May 2021  \n",
       "1                    -  May 2021  \n",
       "2  2021-07-26 00:00:00  May 2021  \n",
       "3  2021-06-08 00:00:00  May 2021  \n",
       "4  2021-06-08 00:00:00  May 2021  "
      ]
     },
     "execution_count": 4,
     "metadata": {},
     "output_type": "execute_result"
    }
   ],
   "source": [
    "# Dictionary with dates\n",
    "dates = {'Май 2021': 'May 2021', 'Июнь 2021': 'June 2021', 'Июль 2021': 'July 2021', \n",
    "         'Август 2021': 'August 2021', 'Сентябрь 2021':'September 2021', 'Октябрь 2021': 'October 2021'}\n",
    "# DataFrame with dates from 'df'\n",
    "df_dates = df.query('status in @dates.keys()').status\n",
    "\n",
    "df['dates'] = 0 # creating the 'dates' column with zeros\n",
    "# Filling up the 'dates' column with months from the 'dates' dictionary\n",
    "for i in df_dates.index:\n",
    "    df.loc[i:,'dates'] = dates[df_dates[i]]\n",
    "    \n",
    "df.head()"
   ]
  },
  {
   "cell_type": "code",
   "execution_count": 5,
   "id": "2094c843",
   "metadata": {},
   "outputs": [],
   "source": [
    "# Convert the 'dates' column to datetime\n",
    "df['dates'] = pd.to_datetime(df['dates'])"
   ]
  },
  {
   "cell_type": "markdown",
   "id": "0ffa2505",
   "metadata": {},
   "source": [
    "Next, let's delete the `Unnamed: 5` column, rows with months, rename the “new/current” column and replace “-” with NaN."
   ]
  },
  {
   "cell_type": "code",
   "execution_count": 6,
   "id": "99bc9b35",
   "metadata": {},
   "outputs": [],
   "source": [
    "df.drop(columns=['Unnamed: 5'], inplace=True) # dropping columns\n",
    "df.drop(index=df_dates.index, inplace=True) # dropping indexes\n",
    "df.rename(columns={'new/current': 'new_current','sum': 'Sum_'}, inplace=True) # renaming columns\n",
    "df.replace('-', np.nan, inplace=True) # replacing '-' to NaN"
   ]
  },
  {
   "cell_type": "code",
   "execution_count": 7,
   "id": "28c2ea5a",
   "metadata": {},
   "outputs": [
    {
     "data": {
      "text/plain": [
       "client_id           0\n",
       "Sum_                0\n",
       "status              0\n",
       "sale                1\n",
       "new_current         1\n",
       "document           16\n",
       "receiving_date    118\n",
       "dates               0\n",
       "dtype: int64"
      ]
     },
     "execution_count": 7,
     "metadata": {},
     "output_type": "execute_result"
    }
   ],
   "source": [
    "df.isna().sum() # number of missing (NaN) values in each column"
   ]
  },
  {
   "cell_type": "markdown",
   "id": "f63deea7",
   "metadata": {},
   "source": [
    "The `reception_date` and `document` columns contain a large number of missing values. Let's check them."
   ]
  },
  {
   "cell_type": "code",
   "execution_count": 11,
   "id": "a5f24bf6",
   "metadata": {},
   "outputs": [
    {
     "data": {
      "text/plain": [
       "array(['NaT'], dtype='datetime64[ns]')"
      ]
     },
     "execution_count": 11,
     "metadata": {},
     "output_type": "execute_result"
    }
   ],
   "source": [
    "df.query('document == \"НЕТ\"').receiving_date.unique()"
   ]
  },
  {
   "cell_type": "markdown",
   "id": "648d4d0d",
   "metadata": {},
   "source": [
    "The code snippet above shows that if the original signed agreement with the client is <b>NOT</b> available (document == \"НЕТ\"), then the date of receipt of the original agreement is missing (NaT), i.e. everything is logical."
   ]
  },
  {
   "cell_type": "code",
   "execution_count": 9,
   "id": "24e09525",
   "metadata": {},
   "outputs": [
    {
     "data": {
      "text/html": [
       "<div>\n",
       "<style scoped>\n",
       "    .dataframe tbody tr th:only-of-type {\n",
       "        vertical-align: middle;\n",
       "    }\n",
       "\n",
       "    .dataframe tbody tr th {\n",
       "        vertical-align: top;\n",
       "    }\n",
       "\n",
       "    .dataframe thead th {\n",
       "        text-align: right;\n",
       "    }\n",
       "</style>\n",
       "<table border=\"1\" class=\"dataframe\">\n",
       "  <thead>\n",
       "    <tr style=\"text-align: right;\">\n",
       "      <th></th>\n",
       "      <th>client_id</th>\n",
       "      <th>Sum_</th>\n",
       "      <th>status</th>\n",
       "      <th>sale</th>\n",
       "      <th>new_current</th>\n",
       "      <th>document</th>\n",
       "      <th>receiving_date</th>\n",
       "      <th>dates</th>\n",
       "    </tr>\n",
       "  </thead>\n",
       "  <tbody>\n",
       "    <tr>\n",
       "      <th>1</th>\n",
       "      <td>6.0</td>\n",
       "      <td>11693.7</td>\n",
       "      <td>ВНУТРЕННИЙ</td>\n",
       "      <td>NaN</td>\n",
       "      <td>NaN</td>\n",
       "      <td>NaN</td>\n",
       "      <td>NaT</td>\n",
       "      <td>2021-05-01</td>\n",
       "    </tr>\n",
       "    <tr>\n",
       "      <th>459</th>\n",
       "      <td>256.0</td>\n",
       "      <td>2351.2</td>\n",
       "      <td>ОПЛАЧЕНО</td>\n",
       "      <td>Филимонова</td>\n",
       "      <td>текущая</td>\n",
       "      <td>NaN</td>\n",
       "      <td>NaT</td>\n",
       "      <td>2021-08-01</td>\n",
       "    </tr>\n",
       "    <tr>\n",
       "      <th>489</th>\n",
       "      <td>30.0</td>\n",
       "      <td>3833.7</td>\n",
       "      <td>В РАБОТЕ</td>\n",
       "      <td>Филимонова</td>\n",
       "      <td>текущая</td>\n",
       "      <td>NaN</td>\n",
       "      <td>NaT</td>\n",
       "      <td>2021-09-01</td>\n",
       "    </tr>\n",
       "    <tr>\n",
       "      <th>689</th>\n",
       "      <td>228.0</td>\n",
       "      <td>6393.7</td>\n",
       "      <td>ОПЛАЧЕНО</td>\n",
       "      <td>Смирнов</td>\n",
       "      <td>текущая</td>\n",
       "      <td>NaN</td>\n",
       "      <td>NaT</td>\n",
       "      <td>2021-10-01</td>\n",
       "    </tr>\n",
       "    <tr>\n",
       "      <th>690</th>\n",
       "      <td>228.0</td>\n",
       "      <td>1603.7</td>\n",
       "      <td>ОПЛАЧЕНО</td>\n",
       "      <td>Смирнов</td>\n",
       "      <td>текущая</td>\n",
       "      <td>NaN</td>\n",
       "      <td>NaT</td>\n",
       "      <td>2021-10-01</td>\n",
       "    </tr>\n",
       "  </tbody>\n",
       "</table>\n",
       "</div>"
      ],
      "text/plain": [
       "     client_id     Sum_      status        sale new_current document  \\\n",
       "1          6.0  11693.7  ВНУТРЕННИЙ         NaN         NaN      NaN   \n",
       "459      256.0   2351.2    ОПЛАЧЕНО  Филимонова     текущая      NaN   \n",
       "489       30.0   3833.7    В РАБОТЕ  Филимонова     текущая      NaN   \n",
       "689      228.0   6393.7    ОПЛАЧЕНО     Смирнов     текущая      NaN   \n",
       "690      228.0   1603.7    ОПЛАЧЕНО     Смирнов     текущая      NaN   \n",
       "\n",
       "    receiving_date      dates  \n",
       "1              NaT 2021-05-01  \n",
       "459            NaT 2021-08-01  \n",
       "489            NaT 2021-09-01  \n",
       "689            NaT 2021-10-01  \n",
       "690            NaT 2021-10-01  "
      ]
     },
     "execution_count": 9,
     "metadata": {},
     "output_type": "execute_result"
    }
   ],
   "source": [
    "df.query('receiving_date == \"NaT\" and document.isnull()')"
   ]
  },
  {
   "cell_type": "markdown",
   "id": "9d8f0382",
   "metadata": {},
   "source": [
    "Here, the code produces a table where there is no mark indicating the presence of the original signed agreement with the client (NaN) and, accordingly, the date of receipt of the original agreement is also missing (NaT). Here, it would be logical to put the NO mark (<b>HET</b>) in the `document` column."
   ]
  },
  {
   "cell_type": "code",
   "execution_count": 10,
   "id": "186cfb38",
   "metadata": {},
   "outputs": [
    {
     "data": {
      "text/html": [
       "<div>\n",
       "<style scoped>\n",
       "    .dataframe tbody tr th:only-of-type {\n",
       "        vertical-align: middle;\n",
       "    }\n",
       "\n",
       "    .dataframe tbody tr th {\n",
       "        vertical-align: top;\n",
       "    }\n",
       "\n",
       "    .dataframe thead th {\n",
       "        text-align: right;\n",
       "    }\n",
       "</style>\n",
       "<table border=\"1\" class=\"dataframe\">\n",
       "  <thead>\n",
       "    <tr style=\"text-align: right;\">\n",
       "      <th></th>\n",
       "      <th>client_id</th>\n",
       "      <th>Sum_</th>\n",
       "      <th>status</th>\n",
       "      <th>sale</th>\n",
       "      <th>new_current</th>\n",
       "      <th>document</th>\n",
       "      <th>receiving_date</th>\n",
       "      <th>dates</th>\n",
       "    </tr>\n",
       "  </thead>\n",
       "  <tbody>\n",
       "    <tr>\n",
       "      <th>1</th>\n",
       "      <td>6.0</td>\n",
       "      <td>11693.7</td>\n",
       "      <td>ВНУТРЕННИЙ</td>\n",
       "      <td>NaN</td>\n",
       "      <td>NaN</td>\n",
       "      <td>НЕТ</td>\n",
       "      <td>NaT</td>\n",
       "      <td>2021-05-01</td>\n",
       "    </tr>\n",
       "    <tr>\n",
       "      <th>459</th>\n",
       "      <td>256.0</td>\n",
       "      <td>2351.2</td>\n",
       "      <td>ОПЛАЧЕНО</td>\n",
       "      <td>Филимонова</td>\n",
       "      <td>текущая</td>\n",
       "      <td>НЕТ</td>\n",
       "      <td>NaT</td>\n",
       "      <td>2021-08-01</td>\n",
       "    </tr>\n",
       "    <tr>\n",
       "      <th>489</th>\n",
       "      <td>30.0</td>\n",
       "      <td>3833.7</td>\n",
       "      <td>В РАБОТЕ</td>\n",
       "      <td>Филимонова</td>\n",
       "      <td>текущая</td>\n",
       "      <td>НЕТ</td>\n",
       "      <td>NaT</td>\n",
       "      <td>2021-09-01</td>\n",
       "    </tr>\n",
       "    <tr>\n",
       "      <th>689</th>\n",
       "      <td>228.0</td>\n",
       "      <td>6393.7</td>\n",
       "      <td>ОПЛАЧЕНО</td>\n",
       "      <td>Смирнов</td>\n",
       "      <td>текущая</td>\n",
       "      <td>НЕТ</td>\n",
       "      <td>NaT</td>\n",
       "      <td>2021-10-01</td>\n",
       "    </tr>\n",
       "    <tr>\n",
       "      <th>690</th>\n",
       "      <td>228.0</td>\n",
       "      <td>1603.7</td>\n",
       "      <td>ОПЛАЧЕНО</td>\n",
       "      <td>Смирнов</td>\n",
       "      <td>текущая</td>\n",
       "      <td>НЕТ</td>\n",
       "      <td>NaT</td>\n",
       "      <td>2021-10-01</td>\n",
       "    </tr>\n",
       "  </tbody>\n",
       "</table>\n",
       "</div>"
      ],
      "text/plain": [
       "     client_id     Sum_      status        sale new_current document  \\\n",
       "1          6.0  11693.7  ВНУТРЕННИЙ         NaN         NaN      НЕТ   \n",
       "459      256.0   2351.2    ОПЛАЧЕНО  Филимонова     текущая      НЕТ   \n",
       "489       30.0   3833.7    В РАБОТЕ  Филимонова     текущая      НЕТ   \n",
       "689      228.0   6393.7    ОПЛАЧЕНО     Смирнов     текущая      НЕТ   \n",
       "690      228.0   1603.7    ОПЛАЧЕНО     Смирнов     текущая      НЕТ   \n",
       "\n",
       "    receiving_date      dates  \n",
       "1              NaT 2021-05-01  \n",
       "459            NaT 2021-08-01  \n",
       "489            NaT 2021-09-01  \n",
       "689            NaT 2021-10-01  \n",
       "690            NaT 2021-10-01  "
      ]
     },
     "execution_count": 10,
     "metadata": {},
     "output_type": "execute_result"
    }
   ],
   "source": [
    "ind_doc_1 = df.query('receiving_date == \"NaT\" and document.isnull()').index\n",
    "df.loc[ind_doc_1, 'document'] = 'НЕТ'\n",
    "df.loc[ind_doc_1]"
   ]
  },
  {
   "cell_type": "code",
   "execution_count": 11,
   "id": "1be2f0bd",
   "metadata": {},
   "outputs": [
    {
     "data": {
      "text/html": [
       "<div>\n",
       "<style scoped>\n",
       "    .dataframe tbody tr th:only-of-type {\n",
       "        vertical-align: middle;\n",
       "    }\n",
       "\n",
       "    .dataframe tbody tr th {\n",
       "        vertical-align: top;\n",
       "    }\n",
       "\n",
       "    .dataframe thead th {\n",
       "        text-align: right;\n",
       "    }\n",
       "</style>\n",
       "<table border=\"1\" class=\"dataframe\">\n",
       "  <thead>\n",
       "    <tr style=\"text-align: right;\">\n",
       "      <th></th>\n",
       "      <th>client_id</th>\n",
       "      <th>Sum_</th>\n",
       "      <th>status</th>\n",
       "      <th>sale</th>\n",
       "      <th>new_current</th>\n",
       "      <th>document</th>\n",
       "      <th>receiving_date</th>\n",
       "      <th>dates</th>\n",
       "    </tr>\n",
       "  </thead>\n",
       "  <tbody>\n",
       "    <tr>\n",
       "      <th>47</th>\n",
       "      <td>87.0</td>\n",
       "      <td>9948.7</td>\n",
       "      <td>ОПЛАЧЕНО</td>\n",
       "      <td>Смирнов</td>\n",
       "      <td>новая</td>\n",
       "      <td>NaN</td>\n",
       "      <td>2021-06-17</td>\n",
       "      <td>2021-05-01</td>\n",
       "    </tr>\n",
       "    <tr>\n",
       "      <th>48</th>\n",
       "      <td>90.0</td>\n",
       "      <td>16123.7</td>\n",
       "      <td>ОПЛАЧЕНО</td>\n",
       "      <td>Смирнов</td>\n",
       "      <td>текущая</td>\n",
       "      <td>NaN</td>\n",
       "      <td>2021-07-28</td>\n",
       "      <td>2021-05-01</td>\n",
       "    </tr>\n",
       "    <tr>\n",
       "      <th>49</th>\n",
       "      <td>91.0</td>\n",
       "      <td>1053.7</td>\n",
       "      <td>ОПЛАЧЕНО</td>\n",
       "      <td>Смирнов</td>\n",
       "      <td>текущая</td>\n",
       "      <td>NaN</td>\n",
       "      <td>2021-07-28</td>\n",
       "      <td>2021-05-01</td>\n",
       "    </tr>\n",
       "    <tr>\n",
       "      <th>93</th>\n",
       "      <td>198.0</td>\n",
       "      <td>4458.7</td>\n",
       "      <td>ОПЛАЧЕНО</td>\n",
       "      <td>Смирнов</td>\n",
       "      <td>текущая</td>\n",
       "      <td>NaN</td>\n",
       "      <td>2021-07-01</td>\n",
       "      <td>2021-05-01</td>\n",
       "    </tr>\n",
       "    <tr>\n",
       "      <th>189</th>\n",
       "      <td>115.0</td>\n",
       "      <td>298.7</td>\n",
       "      <td>ОПЛАЧЕНО</td>\n",
       "      <td>Андреев</td>\n",
       "      <td>текущая</td>\n",
       "      <td>NaN</td>\n",
       "      <td>2021-07-14</td>\n",
       "      <td>2021-06-01</td>\n",
       "    </tr>\n",
       "    <tr>\n",
       "      <th>337</th>\n",
       "      <td>228.0</td>\n",
       "      <td>2193.7</td>\n",
       "      <td>ОПЛАЧЕНО</td>\n",
       "      <td>Смирнов</td>\n",
       "      <td>текущая</td>\n",
       "      <td>NaN</td>\n",
       "      <td>2021-10-06</td>\n",
       "      <td>2021-07-01</td>\n",
       "    </tr>\n",
       "    <tr>\n",
       "      <th>376</th>\n",
       "      <td>32.0</td>\n",
       "      <td>7101.7</td>\n",
       "      <td>ОПЛАЧЕНО</td>\n",
       "      <td>Филимонова</td>\n",
       "      <td>текущая</td>\n",
       "      <td>NaN</td>\n",
       "      <td>2021-10-06</td>\n",
       "      <td>2021-08-01</td>\n",
       "    </tr>\n",
       "    <tr>\n",
       "      <th>409</th>\n",
       "      <td>90.0</td>\n",
       "      <td>8454.2</td>\n",
       "      <td>ОПЛАЧЕНО</td>\n",
       "      <td>Смирнов</td>\n",
       "      <td>текущая</td>\n",
       "      <td>NaN</td>\n",
       "      <td>2021-09-20</td>\n",
       "      <td>2021-08-01</td>\n",
       "    </tr>\n",
       "    <tr>\n",
       "      <th>453</th>\n",
       "      <td>339.0</td>\n",
       "      <td>7553.7</td>\n",
       "      <td>ОПЛАЧЕНО</td>\n",
       "      <td>Петрова</td>\n",
       "      <td>новая</td>\n",
       "      <td>NaN</td>\n",
       "      <td>2021-10-11</td>\n",
       "      <td>2021-08-01</td>\n",
       "    </tr>\n",
       "    <tr>\n",
       "      <th>488</th>\n",
       "      <td>24.0</td>\n",
       "      <td>18142.7</td>\n",
       "      <td>ОПЛАЧЕНО</td>\n",
       "      <td>Андреев</td>\n",
       "      <td>текущая</td>\n",
       "      <td>NaN</td>\n",
       "      <td>2021-10-15</td>\n",
       "      <td>2021-09-01</td>\n",
       "    </tr>\n",
       "    <tr>\n",
       "      <th>513</th>\n",
       "      <td>329.0</td>\n",
       "      <td>5353.7</td>\n",
       "      <td>ОПЛАЧЕНО</td>\n",
       "      <td>Андреев</td>\n",
       "      <td>текущая</td>\n",
       "      <td>NaN</td>\n",
       "      <td>2021-10-11</td>\n",
       "      <td>2021-09-01</td>\n",
       "    </tr>\n",
       "  </tbody>\n",
       "</table>\n",
       "</div>"
      ],
      "text/plain": [
       "     client_id     Sum_    status        sale new_current document  \\\n",
       "47        87.0   9948.7  ОПЛАЧЕНО     Смирнов       новая      NaN   \n",
       "48        90.0  16123.7  ОПЛАЧЕНО     Смирнов     текущая      NaN   \n",
       "49        91.0   1053.7  ОПЛАЧЕНО     Смирнов     текущая      NaN   \n",
       "93       198.0   4458.7  ОПЛАЧЕНО     Смирнов     текущая      NaN   \n",
       "189      115.0    298.7  ОПЛАЧЕНО     Андреев     текущая      NaN   \n",
       "337      228.0   2193.7  ОПЛАЧЕНО     Смирнов     текущая      NaN   \n",
       "376       32.0   7101.7  ОПЛАЧЕНО  Филимонова     текущая      NaN   \n",
       "409       90.0   8454.2  ОПЛАЧЕНО     Смирнов     текущая      NaN   \n",
       "453      339.0   7553.7  ОПЛАЧЕНО     Петрова       новая      NaN   \n",
       "488       24.0  18142.7  ОПЛАЧЕНО     Андреев     текущая      NaN   \n",
       "513      329.0   5353.7  ОПЛАЧЕНО     Андреев     текущая      NaN   \n",
       "\n",
       "    receiving_date      dates  \n",
       "47      2021-06-17 2021-05-01  \n",
       "48      2021-07-28 2021-05-01  \n",
       "49      2021-07-28 2021-05-01  \n",
       "93      2021-07-01 2021-05-01  \n",
       "189     2021-07-14 2021-06-01  \n",
       "337     2021-10-06 2021-07-01  \n",
       "376     2021-10-06 2021-08-01  \n",
       "409     2021-09-20 2021-08-01  \n",
       "453     2021-10-11 2021-08-01  \n",
       "488     2021-10-15 2021-09-01  \n",
       "513     2021-10-11 2021-09-01  "
      ]
     },
     "execution_count": 11,
     "metadata": {},
     "output_type": "execute_result"
    }
   ],
   "source": [
    "df.query('receiving_date != \"NaT\" and document.isnull()')"
   ]
  },
  {
   "cell_type": "markdown",
   "id": "3d2db4b7",
   "metadata": {},
   "source": [
    "Finally, this code returns a table where the status of the presence of the original signed agreement with the client is missing (NaN). At the same time, there is a date for receiving the original contract. <b>If there is a date, then there must be the original contract</b>. We need to put the original (<b>оригинал</b>) in the `document` column."
   ]
  },
  {
   "cell_type": "code",
   "execution_count": 12,
   "id": "765b03a2",
   "metadata": {},
   "outputs": [
    {
     "data": {
      "text/html": [
       "<div>\n",
       "<style scoped>\n",
       "    .dataframe tbody tr th:only-of-type {\n",
       "        vertical-align: middle;\n",
       "    }\n",
       "\n",
       "    .dataframe tbody tr th {\n",
       "        vertical-align: top;\n",
       "    }\n",
       "\n",
       "    .dataframe thead th {\n",
       "        text-align: right;\n",
       "    }\n",
       "</style>\n",
       "<table border=\"1\" class=\"dataframe\">\n",
       "  <thead>\n",
       "    <tr style=\"text-align: right;\">\n",
       "      <th></th>\n",
       "      <th>client_id</th>\n",
       "      <th>Sum_</th>\n",
       "      <th>status</th>\n",
       "      <th>sale</th>\n",
       "      <th>new_current</th>\n",
       "      <th>document</th>\n",
       "      <th>receiving_date</th>\n",
       "      <th>dates</th>\n",
       "    </tr>\n",
       "  </thead>\n",
       "  <tbody>\n",
       "    <tr>\n",
       "      <th>47</th>\n",
       "      <td>87.0</td>\n",
       "      <td>9948.7</td>\n",
       "      <td>ОПЛАЧЕНО</td>\n",
       "      <td>Смирнов</td>\n",
       "      <td>новая</td>\n",
       "      <td>оригинал</td>\n",
       "      <td>2021-06-17</td>\n",
       "      <td>2021-05-01</td>\n",
       "    </tr>\n",
       "    <tr>\n",
       "      <th>48</th>\n",
       "      <td>90.0</td>\n",
       "      <td>16123.7</td>\n",
       "      <td>ОПЛАЧЕНО</td>\n",
       "      <td>Смирнов</td>\n",
       "      <td>текущая</td>\n",
       "      <td>оригинал</td>\n",
       "      <td>2021-07-28</td>\n",
       "      <td>2021-05-01</td>\n",
       "    </tr>\n",
       "    <tr>\n",
       "      <th>49</th>\n",
       "      <td>91.0</td>\n",
       "      <td>1053.7</td>\n",
       "      <td>ОПЛАЧЕНО</td>\n",
       "      <td>Смирнов</td>\n",
       "      <td>текущая</td>\n",
       "      <td>оригинал</td>\n",
       "      <td>2021-07-28</td>\n",
       "      <td>2021-05-01</td>\n",
       "    </tr>\n",
       "    <tr>\n",
       "      <th>93</th>\n",
       "      <td>198.0</td>\n",
       "      <td>4458.7</td>\n",
       "      <td>ОПЛАЧЕНО</td>\n",
       "      <td>Смирнов</td>\n",
       "      <td>текущая</td>\n",
       "      <td>оригинал</td>\n",
       "      <td>2021-07-01</td>\n",
       "      <td>2021-05-01</td>\n",
       "    </tr>\n",
       "    <tr>\n",
       "      <th>189</th>\n",
       "      <td>115.0</td>\n",
       "      <td>298.7</td>\n",
       "      <td>ОПЛАЧЕНО</td>\n",
       "      <td>Андреев</td>\n",
       "      <td>текущая</td>\n",
       "      <td>оригинал</td>\n",
       "      <td>2021-07-14</td>\n",
       "      <td>2021-06-01</td>\n",
       "    </tr>\n",
       "    <tr>\n",
       "      <th>337</th>\n",
       "      <td>228.0</td>\n",
       "      <td>2193.7</td>\n",
       "      <td>ОПЛАЧЕНО</td>\n",
       "      <td>Смирнов</td>\n",
       "      <td>текущая</td>\n",
       "      <td>оригинал</td>\n",
       "      <td>2021-10-06</td>\n",
       "      <td>2021-07-01</td>\n",
       "    </tr>\n",
       "    <tr>\n",
       "      <th>376</th>\n",
       "      <td>32.0</td>\n",
       "      <td>7101.7</td>\n",
       "      <td>ОПЛАЧЕНО</td>\n",
       "      <td>Филимонова</td>\n",
       "      <td>текущая</td>\n",
       "      <td>оригинал</td>\n",
       "      <td>2021-10-06</td>\n",
       "      <td>2021-08-01</td>\n",
       "    </tr>\n",
       "    <tr>\n",
       "      <th>409</th>\n",
       "      <td>90.0</td>\n",
       "      <td>8454.2</td>\n",
       "      <td>ОПЛАЧЕНО</td>\n",
       "      <td>Смирнов</td>\n",
       "      <td>текущая</td>\n",
       "      <td>оригинал</td>\n",
       "      <td>2021-09-20</td>\n",
       "      <td>2021-08-01</td>\n",
       "    </tr>\n",
       "    <tr>\n",
       "      <th>453</th>\n",
       "      <td>339.0</td>\n",
       "      <td>7553.7</td>\n",
       "      <td>ОПЛАЧЕНО</td>\n",
       "      <td>Петрова</td>\n",
       "      <td>новая</td>\n",
       "      <td>оригинал</td>\n",
       "      <td>2021-10-11</td>\n",
       "      <td>2021-08-01</td>\n",
       "    </tr>\n",
       "    <tr>\n",
       "      <th>488</th>\n",
       "      <td>24.0</td>\n",
       "      <td>18142.7</td>\n",
       "      <td>ОПЛАЧЕНО</td>\n",
       "      <td>Андреев</td>\n",
       "      <td>текущая</td>\n",
       "      <td>оригинал</td>\n",
       "      <td>2021-10-15</td>\n",
       "      <td>2021-09-01</td>\n",
       "    </tr>\n",
       "    <tr>\n",
       "      <th>513</th>\n",
       "      <td>329.0</td>\n",
       "      <td>5353.7</td>\n",
       "      <td>ОПЛАЧЕНО</td>\n",
       "      <td>Андреев</td>\n",
       "      <td>текущая</td>\n",
       "      <td>оригинал</td>\n",
       "      <td>2021-10-11</td>\n",
       "      <td>2021-09-01</td>\n",
       "    </tr>\n",
       "  </tbody>\n",
       "</table>\n",
       "</div>"
      ],
      "text/plain": [
       "     client_id     Sum_    status        sale new_current  document  \\\n",
       "47        87.0   9948.7  ОПЛАЧЕНО     Смирнов       новая  оригинал   \n",
       "48        90.0  16123.7  ОПЛАЧЕНО     Смирнов     текущая  оригинал   \n",
       "49        91.0   1053.7  ОПЛАЧЕНО     Смирнов     текущая  оригинал   \n",
       "93       198.0   4458.7  ОПЛАЧЕНО     Смирнов     текущая  оригинал   \n",
       "189      115.0    298.7  ОПЛАЧЕНО     Андреев     текущая  оригинал   \n",
       "337      228.0   2193.7  ОПЛАЧЕНО     Смирнов     текущая  оригинал   \n",
       "376       32.0   7101.7  ОПЛАЧЕНО  Филимонова     текущая  оригинал   \n",
       "409       90.0   8454.2  ОПЛАЧЕНО     Смирнов     текущая  оригинал   \n",
       "453      339.0   7553.7  ОПЛАЧЕНО     Петрова       новая  оригинал   \n",
       "488       24.0  18142.7  ОПЛАЧЕНО     Андреев     текущая  оригинал   \n",
       "513      329.0   5353.7  ОПЛАЧЕНО     Андреев     текущая  оригинал   \n",
       "\n",
       "    receiving_date      dates  \n",
       "47      2021-06-17 2021-05-01  \n",
       "48      2021-07-28 2021-05-01  \n",
       "49      2021-07-28 2021-05-01  \n",
       "93      2021-07-01 2021-05-01  \n",
       "189     2021-07-14 2021-06-01  \n",
       "337     2021-10-06 2021-07-01  \n",
       "376     2021-10-06 2021-08-01  \n",
       "409     2021-09-20 2021-08-01  \n",
       "453     2021-10-11 2021-08-01  \n",
       "488     2021-10-15 2021-09-01  \n",
       "513     2021-10-11 2021-09-01  "
      ]
     },
     "execution_count": 12,
     "metadata": {},
     "output_type": "execute_result"
    }
   ],
   "source": [
    "ind_doc_2 = df.query('receiving_date != \"NaT\" and document.isnull()').index\n",
    "df.loc[ind_doc_2, 'document'] = 'оригинал'\n",
    "df.loc[ind_doc_2]"
   ]
  },
  {
   "cell_type": "markdown",
   "id": "90f83dd4",
   "metadata": {},
   "source": [
    "#### Tasks:\n",
    "1) Calculate the total revenue for <b>July 2021</b> for those transactions whose cash receipts are <b>not overdue (не просрочен)</b>."
   ]
  },
  {
   "cell_type": "code",
   "execution_count": 13,
   "id": "8f2f3fd5",
   "metadata": {},
   "outputs": [
    {
     "data": {
      "text/plain": [
       "859896.4699999987"
      ]
     },
     "execution_count": 13,
     "metadata": {},
     "output_type": "execute_result"
    }
   ],
   "source": [
    "# DataFrame for July 2021 with status 'not expired'\n",
    "quest_1 = df.query('dates == \"2021-07-01\" and status != \"ПРОСРОЧЕНО\"')\n",
    "\n",
    "sum(quest_1['Sum_'])"
   ]
  },
  {
   "cell_type": "markdown",
   "id": "fd195c5b",
   "metadata": {},
   "source": [
    "<b>Answer</b>: Total revenue for July 2021 from non-overdue transactions is approximately 859896.5"
   ]
  },
  {
   "cell_type": "markdown",
   "id": "11a7a090",
   "metadata": {},
   "source": [
    "2) How did the company’s revenue change during the <b>period under review</b>? Illustrate with a graph."
   ]
  },
  {
   "cell_type": "code",
   "execution_count": 13,
   "id": "752dfcf1",
   "metadata": {},
   "outputs": [
    {
     "data": {
      "image/png": "[encoded data removed]",
      "text/plain": [
       "<Figure size 504x288 with 1 Axes>"
      ]
     },
     "metadata": {},
     "output_type": "display_data"
    }
   ],
   "source": [
    "# Revenue values for each month\n",
    "quest_2 = df.groupby('dates')['Sum_'].agg(['sum'])\n",
    "\n",
    "sns.set(font_scale=1.3) # Text size\n",
    "fig, ax = plt.subplots(figsize=(7,4)) # Adjusting the figure's dimensions by specifying its width and height.\n",
    "\n",
    "sns.barplot(x=np.array(calendar.month_abbr)[5:11], y=quest_2['sum']/1000) # bar chart\n",
    "\n",
    "plt.title('\\n Company revenue by month \\n', size=17, color='black')\n",
    "plt.ylabel(\"Company revenue (K)\")\n",
    "plt.xlabel(\"Month\")\n",
    "plt.show()"
   ]
  },
  {
   "cell_type": "markdown",
   "id": "cc88a174",
   "metadata": {},
   "source": [
    "3) Which <b>manager</b> raised the <b>most money for the company in September 2021</b>?"
   ]
  },
  {
   "cell_type": "code",
   "execution_count": 15,
   "id": "6d5a47a7",
   "metadata": {},
   "outputs": [
    {
     "data": {
      "text/plain": [
       "sale\n",
       "Смирнов       221525.70\n",
       "Петрова       149344.46\n",
       "Андреев       133652.50\n",
       "Иванов         94770.60\n",
       "Кузнецова      72228.40\n",
       "Филимонова     59514.47\n",
       "Васильев       49895.45\n",
       "Соколов        35183.50\n",
       "Михайлов        4268.70\n",
       "Name: Sum_, dtype: float64"
      ]
     },
     "execution_count": 15,
     "metadata": {},
     "output_type": "execute_result"
    }
   ],
   "source": [
    "quest_3 = df.query('dates == \"2021-09-01\"') # data for September 2021\n",
    "quest_3.groupby('sale')['Sum_'].sum().sort_values(ascending=False) # summarized revenue for each manager for September 2021"
   ]
  },
  {
   "cell_type": "markdown",
   "id": "03db4d63",
   "metadata": {},
   "source": [
    "<b>Answer</b>: Смирнов (Smirnov)"
   ]
  },
  {
   "cell_type": "markdown",
   "id": "9b9f7591",
   "metadata": {},
   "source": [
    "4) What <b>type of deals (new/current)</b> was dominant in <b>October 2021</b>?"
   ]
  },
  {
   "cell_type": "code",
   "execution_count": 16,
   "id": "988a4abb",
   "metadata": {},
   "outputs": [
    {
     "data": {
      "text/html": [
       "<div>\n",
       "<style scoped>\n",
       "    .dataframe tbody tr th:only-of-type {\n",
       "        vertical-align: middle;\n",
       "    }\n",
       "\n",
       "    .dataframe tbody tr th {\n",
       "        vertical-align: top;\n",
       "    }\n",
       "\n",
       "    .dataframe thead th {\n",
       "        text-align: right;\n",
       "    }\n",
       "</style>\n",
       "<table border=\"1\" class=\"dataframe\">\n",
       "  <thead>\n",
       "    <tr style=\"text-align: right;\">\n",
       "      <th></th>\n",
       "      <th>sum</th>\n",
       "      <th>count</th>\n",
       "    </tr>\n",
       "    <tr>\n",
       "      <th>new_current</th>\n",
       "      <th></th>\n",
       "      <th></th>\n",
       "    </tr>\n",
       "  </thead>\n",
       "  <tbody>\n",
       "    <tr>\n",
       "      <th>новая</th>\n",
       "      <td>273493.50</td>\n",
       "      <td>36</td>\n",
       "    </tr>\n",
       "    <tr>\n",
       "      <th>текущая</th>\n",
       "      <td>759654.89</td>\n",
       "      <td>99</td>\n",
       "    </tr>\n",
       "  </tbody>\n",
       "</table>\n",
       "</div>"
      ],
      "text/plain": [
       "                   sum  count\n",
       "new_current                  \n",
       "новая        273493.50     36\n",
       "текущая      759654.89     99"
      ]
     },
     "execution_count": 16,
     "metadata": {},
     "output_type": "execute_result"
    }
   ],
   "source": [
    "quest_4 = df.query('dates == \"2021-10-01\"') # data for October 2021\n",
    "quest_4.groupby('new_current')['Sum_'].agg(['sum', 'count'])"
   ]
  },
  {
   "cell_type": "markdown",
   "id": "2d3bca1c",
   "metadata": {},
   "source": [
    "<b>Answer</b>: Current (текущая) transactions prevailed in October 2021 both in terms of revenue and their number."
   ]
  },
  {
   "cell_type": "markdown",
   "id": "3e655db9",
   "metadata": {},
   "source": [
    "5) How many <b>original agreements</b> for <b>May transactions</b> were received in <b>June 2021</b>?"
   ]
  },
  {
   "cell_type": "code",
   "execution_count": 17,
   "id": "9499f24f",
   "metadata": {},
   "outputs": [
    {
     "data": {
      "text/plain": [
       "77"
      ]
     },
     "execution_count": 17,
     "metadata": {},
     "output_type": "execute_result"
    }
   ],
   "source": [
    "# A column with months of 'receiving_date'\n",
    "df['receiving_date_month'] = df['receiving_date'].replace('-', np.nan).dt.month \n",
    "len(df.query('dates == \"2021-05-01\" and receiving_date_month == 6'))"
   ]
  },
  {
   "cell_type": "markdown",
   "id": "864efc30",
   "metadata": {},
   "source": [
    "<b>Answer:</b> 77"
   ]
  },
  {
   "cell_type": "markdown",
   "id": "d370cade",
   "metadata": {},
   "source": [
    "6. For each concluded deal, the manager receives a bonus, which is calculated as follows.\n",
    "\n",
    "- For <b>new transactions</b>, the manager receives <b>7%</b> of the amount, provided that the payment status is “PAID” <b>«ОПЛАЧЕНО»</b>, and there is also an <b>original</b> signed agreement by the client (<b>in the month in question</b>).\n",
    "\n",
    "- For <b>current transactions</b>, the manager receives <b>5%</b> of the amount if it is <b>more than 10 thousand</b>, and <b>3%</b> of the amount if less. In this case, the payment status can be anything other than “EXPIRE” <b>«ПРОСРОЧЕНО»</b>, and it is also necessary to have the <b>original</b> signed agreement with the client (<b>in the month in question</b>).\n",
    "\n",
    "Bonuses for transactions for which the originals arrive later than the month in question are considered a balance for the next period, which is paid as the originals arrive. Calculate the balance of each manager as of 07/01/2021."
   ]
  },
  {
   "cell_type": "code",
   "execution_count": 18,
   "id": "1930c070",
   "metadata": {},
   "outputs": [],
   "source": [
    "# All sales for May and June (256 deals)\n",
    "df_5_6 = df.query('dates == \"2021-05-01\" or dates == \"2021-06-01\"')\n",
    "\n",
    "# Sales for May and June with contract received after June\n",
    "df_after_6 = df_5_6.query('receiving_date_month != 5 and receiving_date_month != 6')"
   ]
  },
  {
   "cell_type": "markdown",
   "id": "7bf4b59f",
   "metadata": {},
   "source": [
    "DataFrame 'df_after_6' contains all transactions for which the originals have not arrived as of 06/30/2021, i.e. Bonuses were not accrued on these transactions in May and June and they are considered balances (will be accrued later). Thus, we need to calculate bonuses for this table and this will be the unpaid balance of each manager as of 07/01/2021.\n",
    "\n",
    "Because at the time of 07/01/2021, we do not yet know whether the originals will be provided, we ignore the `document` column, and bonuses will be awarded if the originals are provided and in the month when they are provided."
   ]
  },
  {
   "cell_type": "code",
   "execution_count": 19,
   "id": "3914af76",
   "metadata": {},
   "outputs": [
    {
     "data": {
      "text/html": [
       "<div>\n",
       "<style scoped>\n",
       "    .dataframe tbody tr th:only-of-type {\n",
       "        vertical-align: middle;\n",
       "    }\n",
       "\n",
       "    .dataframe tbody tr th {\n",
       "        vertical-align: top;\n",
       "    }\n",
       "\n",
       "    .dataframe thead th {\n",
       "        text-align: right;\n",
       "    }\n",
       "</style>\n",
       "<table border=\"1\" class=\"dataframe\">\n",
       "  <thead>\n",
       "    <tr style=\"text-align: right;\">\n",
       "      <th></th>\n",
       "      <th>bonus_new</th>\n",
       "    </tr>\n",
       "    <tr>\n",
       "      <th>sale</th>\n",
       "      <th></th>\n",
       "    </tr>\n",
       "  </thead>\n",
       "  <tbody>\n",
       "    <tr>\n",
       "      <th>Васильев</th>\n",
       "      <td>187.509</td>\n",
       "    </tr>\n",
       "    <tr>\n",
       "      <th>Петрова</th>\n",
       "      <td>2877.448</td>\n",
       "    </tr>\n",
       "    <tr>\n",
       "      <th>Селиванов</th>\n",
       "      <td>4336.913</td>\n",
       "    </tr>\n",
       "    <tr>\n",
       "      <th>Смирнов</th>\n",
       "      <td>213.759</td>\n",
       "    </tr>\n",
       "    <tr>\n",
       "      <th>Филимонова</th>\n",
       "      <td>727.468</td>\n",
       "    </tr>\n",
       "  </tbody>\n",
       "</table>\n",
       "</div>"
      ],
      "text/plain": [
       "            bonus_new\n",
       "sale                 \n",
       "Васильев      187.509\n",
       "Петрова      2877.448\n",
       "Селиванов    4336.913\n",
       "Смирнов       213.759\n",
       "Филимонова    727.468"
      ]
     },
     "execution_count": 19,
     "metadata": {},
     "output_type": "execute_result"
    }
   ],
   "source": [
    "# DataFrame with new deals\n",
    "df_after_6_new = df_after_6.query('new_current == \"новая\" and status == \"ОПЛАЧЕНО\"')\n",
    "\n",
    "# DataFrame with summarized bonuses for each manager for new deals\n",
    "df_after_6_new_bonus = (df_after_6_new.groupby('sale')['Sum_'].agg(['sum'])*0.07).rename(columns={'sum': 'bonus_new'})\n",
    "df_after_6_new_bonus"
   ]
  },
  {
   "cell_type": "markdown",
   "id": "333c3ad1",
   "metadata": {},
   "source": [
    "Above, there are the bonuses for new transactions for each manager as of 07/01/2021."
   ]
  },
  {
   "cell_type": "code",
   "execution_count": 20,
   "id": "e8fcabeb",
   "metadata": {},
   "outputs": [
    {
     "data": {
      "text/html": [
       "<div>\n",
       "<style scoped>\n",
       "    .dataframe tbody tr th:only-of-type {\n",
       "        vertical-align: middle;\n",
       "    }\n",
       "\n",
       "    .dataframe tbody tr th {\n",
       "        vertical-align: top;\n",
       "    }\n",
       "\n",
       "    .dataframe thead th {\n",
       "        text-align: right;\n",
       "    }\n",
       "</style>\n",
       "<table border=\"1\" class=\"dataframe\">\n",
       "  <thead>\n",
       "    <tr style=\"text-align: right;\">\n",
       "      <th></th>\n",
       "      <th>bonus_cur_10</th>\n",
       "    </tr>\n",
       "    <tr>\n",
       "      <th>sale</th>\n",
       "      <th></th>\n",
       "    </tr>\n",
       "  </thead>\n",
       "  <tbody>\n",
       "    <tr>\n",
       "      <th>Андреев</th>\n",
       "      <td>2141.255</td>\n",
       "    </tr>\n",
       "    <tr>\n",
       "      <th>Иванов</th>\n",
       "      <td>3742.670</td>\n",
       "    </tr>\n",
       "    <tr>\n",
       "      <th>Кузнецова</th>\n",
       "      <td>631.988</td>\n",
       "    </tr>\n",
       "    <tr>\n",
       "      <th>Петрова</th>\n",
       "      <td>2289.855</td>\n",
       "    </tr>\n",
       "    <tr>\n",
       "      <th>Смирнов</th>\n",
       "      <td>4847.550</td>\n",
       "    </tr>\n",
       "  </tbody>\n",
       "</table>\n",
       "</div>"
      ],
      "text/plain": [
       "           bonus_cur_10\n",
       "sale                   \n",
       "Андреев        2141.255\n",
       "Иванов         3742.670\n",
       "Кузнецова       631.988\n",
       "Петрова        2289.855\n",
       "Смирнов        4847.550"
      ]
     },
     "execution_count": 20,
     "metadata": {},
     "output_type": "execute_result"
    }
   ],
   "source": [
    "# DataFrame with current deals that are more than 10000\n",
    "df_after_6_cur_10 = df_after_6.query('new_current == \"текущая\" and status != \"ПРОСРОЧЕНО\" and Sum_ > 10000')\n",
    "\n",
    "# DataFrame with summarized bonuses for each manager for current deals that are more than 10000\n",
    "df_after_6_cur_bonus_10 = (df_after_6_cur_10.groupby('sale')['Sum_'].agg(['sum'])*0.05).rename(columns={'sum': 'bonus_cur_10'})\n",
    "df_after_6_cur_bonus_10"
   ]
  },
  {
   "cell_type": "markdown",
   "id": "beb13f40",
   "metadata": {},
   "source": [
    "Above, there are the bonuses of current transactions for each manager as of 07/01/2021, which are more than 10 thousand."
   ]
  },
  {
   "cell_type": "code",
   "execution_count": 21,
   "id": "fcd712bc",
   "metadata": {},
   "outputs": [
    {
     "data": {
      "text/html": [
       "<div>\n",
       "<style scoped>\n",
       "    .dataframe tbody tr th:only-of-type {\n",
       "        vertical-align: middle;\n",
       "    }\n",
       "\n",
       "    .dataframe tbody tr th {\n",
       "        vertical-align: top;\n",
       "    }\n",
       "\n",
       "    .dataframe thead th {\n",
       "        text-align: right;\n",
       "    }\n",
       "</style>\n",
       "<table border=\"1\" class=\"dataframe\">\n",
       "  <thead>\n",
       "    <tr style=\"text-align: right;\">\n",
       "      <th></th>\n",
       "      <th>bonus_cur</th>\n",
       "    </tr>\n",
       "    <tr>\n",
       "      <th>sale</th>\n",
       "      <th></th>\n",
       "    </tr>\n",
       "  </thead>\n",
       "  <tbody>\n",
       "    <tr>\n",
       "      <th>Андреев</th>\n",
       "      <td>1813.5357</td>\n",
       "    </tr>\n",
       "    <tr>\n",
       "      <th>Васильев</th>\n",
       "      <td>849.5400</td>\n",
       "    </tr>\n",
       "    <tr>\n",
       "      <th>Иванов</th>\n",
       "      <td>2248.7820</td>\n",
       "    </tr>\n",
       "    <tr>\n",
       "      <th>Кузнецова</th>\n",
       "      <td>3864.9621</td>\n",
       "    </tr>\n",
       "    <tr>\n",
       "      <th>Петрова</th>\n",
       "      <td>5704.3554</td>\n",
       "    </tr>\n",
       "    <tr>\n",
       "      <th>Селиванов</th>\n",
       "      <td>960.7770</td>\n",
       "    </tr>\n",
       "    <tr>\n",
       "      <th>Смирнов</th>\n",
       "      <td>2340.5130</td>\n",
       "    </tr>\n",
       "    <tr>\n",
       "      <th>Соколов</th>\n",
       "      <td>269.2110</td>\n",
       "    </tr>\n",
       "    <tr>\n",
       "      <th>Филимонова</th>\n",
       "      <td>1590.4899</td>\n",
       "    </tr>\n",
       "  </tbody>\n",
       "</table>\n",
       "</div>"
      ],
      "text/plain": [
       "            bonus_cur\n",
       "sale                 \n",
       "Андреев     1813.5357\n",
       "Васильев     849.5400\n",
       "Иванов      2248.7820\n",
       "Кузнецова   3864.9621\n",
       "Петрова     5704.3554\n",
       "Селиванов    960.7770\n",
       "Смирнов     2340.5130\n",
       "Соколов      269.2110\n",
       "Филимонова  1590.4899"
      ]
     },
     "execution_count": 21,
     "metadata": {},
     "output_type": "execute_result"
    }
   ],
   "source": [
    "# DataFrame with current deals that are less than 10000\n",
    "df_after_6_cur = df_after_6.query('new_current == \"текущая\" and status != \"ПРОСРОЧЕНО\" and Sum_ <= 10000')\n",
    "\n",
    "# DataFrame with summarized bonuses for each manager for current deals that are less than 10000\n",
    "df_after_6_cur_bonus = (df_after_6_cur.groupby('sale')['Sum_'].agg(['sum'])*0.03).rename(columns={'sum': 'bonus_cur'})\n",
    "df_after_6_cur_bonus"
   ]
  },
  {
   "cell_type": "markdown",
   "id": "1a5d485f",
   "metadata": {},
   "source": [
    "Above, there are the bonuses of current transactions for each manager as of 07/01/2021, which are less than 10 thousand.\n",
    "\n",
    "<b>Result</b>: Below are the bonus balances for each of the managers as of 07/01/2021, which will be paid in the following months starting in July when the original contracts are provided."
   ]
  },
  {
   "cell_type": "code",
   "execution_count": 22,
   "id": "a588d976",
   "metadata": {},
   "outputs": [
    {
     "data": {
      "text/plain": [
       "sale\n",
       "Андреев        3954.7907\n",
       "Васильев       1037.0490\n",
       "Иванов         5991.4520\n",
       "Кузнецова      4496.9501\n",
       "Петрова       10871.6584\n",
       "Селиванов      5297.6900\n",
       "Смирнов        7401.8220\n",
       "Соколов         269.2110\n",
       "Филимонова     2317.9579\n",
       "dtype: float64"
      ]
     },
     "execution_count": 22,
     "metadata": {},
     "output_type": "execute_result"
    }
   ],
   "source": [
    "# Joining all the DataFrames\n",
    "df_final = df_after_6_new_bonus.join(df_after_6_cur_bonus_10, how='outer').join(df_after_6_cur_bonus, how='outer')\n",
    "df_final.sum(1) # balance of bonuses for each manager as of 07/01/2021"
   ]
  }
 ],
 "metadata": {
  "kernelspec": {
   "display_name": "Python 3 (ipykernel)",
   "language": "python",
   "name": "python3"
  },
  "language_info": {
   "codemirror_mode": {
    "name": "ipython",
    "version": 3
   },
   "file_extension": ".py",
   "mimetype": "text/x-python",
   "name": "python",
   "nbconvert_exporter": "python",
   "pygments_lexer": "ipython3",
   "version": "3.9.12"
  }
 },
 "nbformat": 4,
 "nbformat_minor": 5
}
